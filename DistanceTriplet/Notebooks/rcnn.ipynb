{
 "cells": [
  {
   "cell_type": "code",
   "execution_count": 1,
   "id": "23d965f0",
   "metadata": {},
   "outputs": [],
   "source": [
    "import os\n",
    "import cv2\n",
    "import numpy as np\n",
    "from torchmetrics import ConfusionMatrix\n",
    "import torch\n",
    "import torch.nn as nn\n",
    "import torch.nn.functional as F\n"
   ]
  },
  {
   "cell_type": "code",
   "execution_count": 2,
   "id": "cca9cabe",
   "metadata": {},
   "outputs": [
    {
     "name": "stdout",
     "output_type": "stream",
     "text": [
      "cpu\n"
     ]
    }
   ],
   "source": [
    "device = torch.device(\"cuda:0\" if torch.cuda.is_available() else \"cpu\")\n",
    "print(device)"
   ]
  },
  {
   "cell_type": "code",
   "execution_count": 3,
   "id": "e6576fd3",
   "metadata": {},
   "outputs": [],
   "source": [
    "def lett_to_num(y):\n",
    "    \"\"\"Return a numeric encoding of the letters\"\"\"\n",
    "    return [ord(lab) - 65 for lab in y]\n"
   ]
  },
  {
   "cell_type": "code",
   "execution_count": 4,
   "id": "2519b7e9",
   "metadata": {},
   "outputs": [],
   "source": [
    "class WeightedClassificationError():\n",
    "    n_classes = 8\n",
    "    Wmax=10\n",
    "    is_lower_the_better = True\n",
    "    minimum = 0.0\n",
    "    maximum = np.inf  # 1 if normalisation by max(W)\n",
    "    W = torch.tensor (\n",
    "            [[0, 1, 6, 10, 10, 10, 10, 10],\n",
    "                [1, 0, 3, 10, 10, 10, 10, 10],\n",
    "                [6, 3, 0, 2, 9, 10, 10, 10],\n",
    "                [10, 10, 2, 0, 9, 9, 10, 10],\n",
    "                [10, 10, 9, 9, 0, 8, 8, 8],\n",
    "                [10, 10, 10, 9, 8, 0, 9, 8],\n",
    "                [10, 10, 10, 10, 8, 9, 0, 9],\n",
    "                [10, 10, 10, 10, 8, 8, 9, 0],]\n",
    "        )\n",
    "    def __init__(\n",
    "        self, name=\"WeightedClassificationError\", precision=2, time_idx=0\n",
    "    ):\n",
    "        self.precision = precision\n",
    "\n",
    "    def compute(self, y_true, y_pred):\n",
    "        confmat = ConfusionMatrix(num_classes=8)\n",
    "        loss = torch.sum(torch.multiply(confmat(y_pred,y_true),self.W))/ (self.n_classes * self.Wmax)\n",
    "        return loss\n",
    "\n",
    "    def __call__(self, y_true, y_pred):\n",
    "        y_pred = y_pred\n",
    "        y_true = y_true\n",
    "        return self.compute(y_true, y_pred)"
   ]
  },
  {
   "cell_type": "code",
   "execution_count": 55,
   "id": "1b721bdb",
   "metadata": {},
   "outputs": [],
   "source": [
    "nb_frame=50\n",
    "class CNN(nn.Module):\n",
    "    def __init__(self):\n",
    "        super(CNN, self).__init__()\n",
    "        \n",
    "        self.conv1 = nn.Conv2d(1, 32, 11,stride=2)\n",
    "        self.conv2 = nn.Conv2d(32, 64, 5,stride=1)\n",
    "        self.conv3 = nn.Conv2d(64, 128, 3,stride=2)\n",
    "        self.conv4 = nn.Conv2d(128, 256, 3,stride=2)\n",
    "        \n",
    "    def forward(self, i):\n",
    "        x = i.view(-1, i.shape[2], i.shape[3], i.shape[4])\n",
    "        x = F.relu(self.conv1(x))\n",
    "        x = F.relu(self.conv2(x))\n",
    "        x = F.relu(self.conv3(x))\n",
    "        x = F.relu(self.conv4(x))\n",
    "        x = nn.AvgPool2d(3)(x)\n",
    "        x = x.view(i.shape[0], i.shape[1], -1)\n",
    "        return x\n",
    "    \n",
    "class LSTM(nn.Module):\n",
    "    def __init__(self):\n",
    "        super(LSTM, self).__init__()\n",
    "        self.lstm = nn.LSTM(20736, 100,60,dropout=0.3,batch_first=True)\n",
    "        self.fc = nn.Linear(100*nb_frame, 8)\n",
    "        \n",
    "    def forward(self, x):\n",
    "        print(x.shape)\n",
    "        x, _ = self.lstm(x)\n",
    "        print(x.shape)\n",
    "        #x = x.view(x.shape[0], -1)\n",
    "        x = F.softmax(self.fc(x),dim=1)\n",
    "        return x    \n",
    "    \n",
    "\n",
    "net_cnn = CNN()\n",
    "net_lstm = LSTM()\n"
   ]
  },
  {
   "cell_type": "code",
   "execution_count": 56,
   "id": "25e19339",
   "metadata": {},
   "outputs": [
    {
     "name": "stdout",
     "output_type": "stream",
     "text": [
      "torch.Size([50, 10, 1, 256, 256])\n"
     ]
    }
   ],
   "source": [
    "x = torch.rand((50, 10, 1, 256, 256)).to(device)\n",
    "print(x.shape)"
   ]
  },
  {
   "cell_type": "code",
   "execution_count": 57,
   "id": "7464b174",
   "metadata": {},
   "outputs": [
    {
     "ename": "RuntimeError",
     "evalue": "[enforce fail at C:\\cb\\pytorch_1000000000000\\work\\c10\\core\\impl\\alloc_cpu.cpp:81] data. DefaultCPUAllocator: not enough memory: you tried to allocate 968256000 bytes.",
     "output_type": "error",
     "traceback": [
      "\u001b[1;31m---------------------------------------------------------------------------\u001b[0m",
      "\u001b[1;31mRuntimeError\u001b[0m                              Traceback (most recent call last)",
      "Input \u001b[1;32mIn [57]\u001b[0m, in \u001b[0;36m<cell line: 1>\u001b[1;34m()\u001b[0m\n\u001b[1;32m----> 1\u001b[0m features \u001b[38;5;241m=\u001b[39m \u001b[43mnet_cnn\u001b[49m\u001b[43m(\u001b[49m\u001b[43mx\u001b[49m\u001b[43m)\u001b[49m\n\u001b[0;32m      2\u001b[0m out \u001b[38;5;241m=\u001b[39m net_lstm(features)\n\u001b[0;32m      3\u001b[0m \u001b[38;5;28mprint\u001b[39m(features\u001b[38;5;241m.\u001b[39mshape)\n",
      "File \u001b[1;32m~\\Anaconda3\\lib\\site-packages\\torch\\nn\\modules\\module.py:1130\u001b[0m, in \u001b[0;36mModule._call_impl\u001b[1;34m(self, *input, **kwargs)\u001b[0m\n\u001b[0;32m   1126\u001b[0m \u001b[38;5;66;03m# If we don't have any hooks, we want to skip the rest of the logic in\u001b[39;00m\n\u001b[0;32m   1127\u001b[0m \u001b[38;5;66;03m# this function, and just call forward.\u001b[39;00m\n\u001b[0;32m   1128\u001b[0m \u001b[38;5;28;01mif\u001b[39;00m \u001b[38;5;129;01mnot\u001b[39;00m (\u001b[38;5;28mself\u001b[39m\u001b[38;5;241m.\u001b[39m_backward_hooks \u001b[38;5;129;01mor\u001b[39;00m \u001b[38;5;28mself\u001b[39m\u001b[38;5;241m.\u001b[39m_forward_hooks \u001b[38;5;129;01mor\u001b[39;00m \u001b[38;5;28mself\u001b[39m\u001b[38;5;241m.\u001b[39m_forward_pre_hooks \u001b[38;5;129;01mor\u001b[39;00m _global_backward_hooks\n\u001b[0;32m   1129\u001b[0m         \u001b[38;5;129;01mor\u001b[39;00m _global_forward_hooks \u001b[38;5;129;01mor\u001b[39;00m _global_forward_pre_hooks):\n\u001b[1;32m-> 1130\u001b[0m     \u001b[38;5;28;01mreturn\u001b[39;00m forward_call(\u001b[38;5;241m*\u001b[39m\u001b[38;5;28minput\u001b[39m, \u001b[38;5;241m*\u001b[39m\u001b[38;5;241m*\u001b[39mkwargs)\n\u001b[0;32m   1131\u001b[0m \u001b[38;5;66;03m# Do not call functions when jit is used\u001b[39;00m\n\u001b[0;32m   1132\u001b[0m full_backward_hooks, non_full_backward_hooks \u001b[38;5;241m=\u001b[39m [], []\n",
      "Input \u001b[1;32mIn [55]\u001b[0m, in \u001b[0;36mCNN.forward\u001b[1;34m(self, i)\u001b[0m\n\u001b[0;32m     11\u001b[0m \u001b[38;5;28;01mdef\u001b[39;00m \u001b[38;5;21mforward\u001b[39m(\u001b[38;5;28mself\u001b[39m, i):\n\u001b[0;32m     12\u001b[0m     x \u001b[38;5;241m=\u001b[39m i\u001b[38;5;241m.\u001b[39mview(\u001b[38;5;241m-\u001b[39m\u001b[38;5;241m1\u001b[39m, i\u001b[38;5;241m.\u001b[39mshape[\u001b[38;5;241m2\u001b[39m], i\u001b[38;5;241m.\u001b[39mshape[\u001b[38;5;241m3\u001b[39m], i\u001b[38;5;241m.\u001b[39mshape[\u001b[38;5;241m4\u001b[39m])\n\u001b[1;32m---> 13\u001b[0m     x \u001b[38;5;241m=\u001b[39m F\u001b[38;5;241m.\u001b[39mrelu(\u001b[38;5;28;43mself\u001b[39;49m\u001b[38;5;241;43m.\u001b[39;49m\u001b[43mconv1\u001b[49m\u001b[43m(\u001b[49m\u001b[43mx\u001b[49m\u001b[43m)\u001b[49m)\n\u001b[0;32m     14\u001b[0m     x \u001b[38;5;241m=\u001b[39m F\u001b[38;5;241m.\u001b[39mrelu(\u001b[38;5;28mself\u001b[39m\u001b[38;5;241m.\u001b[39mconv2(x))\n\u001b[0;32m     15\u001b[0m     x \u001b[38;5;241m=\u001b[39m F\u001b[38;5;241m.\u001b[39mrelu(\u001b[38;5;28mself\u001b[39m\u001b[38;5;241m.\u001b[39mconv3(x))\n",
      "File \u001b[1;32m~\\Anaconda3\\lib\\site-packages\\torch\\nn\\modules\\module.py:1130\u001b[0m, in \u001b[0;36mModule._call_impl\u001b[1;34m(self, *input, **kwargs)\u001b[0m\n\u001b[0;32m   1126\u001b[0m \u001b[38;5;66;03m# If we don't have any hooks, we want to skip the rest of the logic in\u001b[39;00m\n\u001b[0;32m   1127\u001b[0m \u001b[38;5;66;03m# this function, and just call forward.\u001b[39;00m\n\u001b[0;32m   1128\u001b[0m \u001b[38;5;28;01mif\u001b[39;00m \u001b[38;5;129;01mnot\u001b[39;00m (\u001b[38;5;28mself\u001b[39m\u001b[38;5;241m.\u001b[39m_backward_hooks \u001b[38;5;129;01mor\u001b[39;00m \u001b[38;5;28mself\u001b[39m\u001b[38;5;241m.\u001b[39m_forward_hooks \u001b[38;5;129;01mor\u001b[39;00m \u001b[38;5;28mself\u001b[39m\u001b[38;5;241m.\u001b[39m_forward_pre_hooks \u001b[38;5;129;01mor\u001b[39;00m _global_backward_hooks\n\u001b[0;32m   1129\u001b[0m         \u001b[38;5;129;01mor\u001b[39;00m _global_forward_hooks \u001b[38;5;129;01mor\u001b[39;00m _global_forward_pre_hooks):\n\u001b[1;32m-> 1130\u001b[0m     \u001b[38;5;28;01mreturn\u001b[39;00m forward_call(\u001b[38;5;241m*\u001b[39m\u001b[38;5;28minput\u001b[39m, \u001b[38;5;241m*\u001b[39m\u001b[38;5;241m*\u001b[39mkwargs)\n\u001b[0;32m   1131\u001b[0m \u001b[38;5;66;03m# Do not call functions when jit is used\u001b[39;00m\n\u001b[0;32m   1132\u001b[0m full_backward_hooks, non_full_backward_hooks \u001b[38;5;241m=\u001b[39m [], []\n",
      "File \u001b[1;32m~\\Anaconda3\\lib\\site-packages\\torch\\nn\\modules\\conv.py:457\u001b[0m, in \u001b[0;36mConv2d.forward\u001b[1;34m(self, input)\u001b[0m\n\u001b[0;32m    456\u001b[0m \u001b[38;5;28;01mdef\u001b[39;00m \u001b[38;5;21mforward\u001b[39m(\u001b[38;5;28mself\u001b[39m, \u001b[38;5;28minput\u001b[39m: Tensor) \u001b[38;5;241m-\u001b[39m\u001b[38;5;241m>\u001b[39m Tensor:\n\u001b[1;32m--> 457\u001b[0m     \u001b[38;5;28;01mreturn\u001b[39;00m \u001b[38;5;28;43mself\u001b[39;49m\u001b[38;5;241;43m.\u001b[39;49m\u001b[43m_conv_forward\u001b[49m\u001b[43m(\u001b[49m\u001b[38;5;28;43minput\u001b[39;49m\u001b[43m,\u001b[49m\u001b[43m \u001b[49m\u001b[38;5;28;43mself\u001b[39;49m\u001b[38;5;241;43m.\u001b[39;49m\u001b[43mweight\u001b[49m\u001b[43m,\u001b[49m\u001b[43m \u001b[49m\u001b[38;5;28;43mself\u001b[39;49m\u001b[38;5;241;43m.\u001b[39;49m\u001b[43mbias\u001b[49m\u001b[43m)\u001b[49m\n",
      "File \u001b[1;32m~\\Anaconda3\\lib\\site-packages\\torch\\nn\\modules\\conv.py:453\u001b[0m, in \u001b[0;36mConv2d._conv_forward\u001b[1;34m(self, input, weight, bias)\u001b[0m\n\u001b[0;32m    449\u001b[0m \u001b[38;5;28;01mif\u001b[39;00m \u001b[38;5;28mself\u001b[39m\u001b[38;5;241m.\u001b[39mpadding_mode \u001b[38;5;241m!=\u001b[39m \u001b[38;5;124m'\u001b[39m\u001b[38;5;124mzeros\u001b[39m\u001b[38;5;124m'\u001b[39m:\n\u001b[0;32m    450\u001b[0m     \u001b[38;5;28;01mreturn\u001b[39;00m F\u001b[38;5;241m.\u001b[39mconv2d(F\u001b[38;5;241m.\u001b[39mpad(\u001b[38;5;28minput\u001b[39m, \u001b[38;5;28mself\u001b[39m\u001b[38;5;241m.\u001b[39m_reversed_padding_repeated_twice, mode\u001b[38;5;241m=\u001b[39m\u001b[38;5;28mself\u001b[39m\u001b[38;5;241m.\u001b[39mpadding_mode),\n\u001b[0;32m    451\u001b[0m                     weight, bias, \u001b[38;5;28mself\u001b[39m\u001b[38;5;241m.\u001b[39mstride,\n\u001b[0;32m    452\u001b[0m                     _pair(\u001b[38;5;241m0\u001b[39m), \u001b[38;5;28mself\u001b[39m\u001b[38;5;241m.\u001b[39mdilation, \u001b[38;5;28mself\u001b[39m\u001b[38;5;241m.\u001b[39mgroups)\n\u001b[1;32m--> 453\u001b[0m \u001b[38;5;28;01mreturn\u001b[39;00m \u001b[43mF\u001b[49m\u001b[38;5;241;43m.\u001b[39;49m\u001b[43mconv2d\u001b[49m\u001b[43m(\u001b[49m\u001b[38;5;28;43minput\u001b[39;49m\u001b[43m,\u001b[49m\u001b[43m \u001b[49m\u001b[43mweight\u001b[49m\u001b[43m,\u001b[49m\u001b[43m \u001b[49m\u001b[43mbias\u001b[49m\u001b[43m,\u001b[49m\u001b[43m \u001b[49m\u001b[38;5;28;43mself\u001b[39;49m\u001b[38;5;241;43m.\u001b[39;49m\u001b[43mstride\u001b[49m\u001b[43m,\u001b[49m\n\u001b[0;32m    454\u001b[0m \u001b[43m                \u001b[49m\u001b[38;5;28;43mself\u001b[39;49m\u001b[38;5;241;43m.\u001b[39;49m\u001b[43mpadding\u001b[49m\u001b[43m,\u001b[49m\u001b[43m \u001b[49m\u001b[38;5;28;43mself\u001b[39;49m\u001b[38;5;241;43m.\u001b[39;49m\u001b[43mdilation\u001b[49m\u001b[43m,\u001b[49m\u001b[43m \u001b[49m\u001b[38;5;28;43mself\u001b[39;49m\u001b[38;5;241;43m.\u001b[39;49m\u001b[43mgroups\u001b[49m\u001b[43m)\u001b[49m\n",
      "\u001b[1;31mRuntimeError\u001b[0m: [enforce fail at C:\\cb\\pytorch_1000000000000\\work\\c10\\core\\impl\\alloc_cpu.cpp:81] data. DefaultCPUAllocator: not enough memory: you tried to allocate 968256000 bytes."
     ]
    }
   ],
   "source": [
    "features = net_cnn(x)\n",
    "out = net_lstm(features)\n",
    "print(features.shape)\n",
    "print(out.shape)"
   ]
  },
  {
   "cell_type": "code",
   "execution_count": null,
   "id": "0f70d37c",
   "metadata": {},
   "outputs": [],
   "source": [
    "def get_n_params(model):\n",
    "    pp=0\n",
    "    for p in list(model.parameters()):\n",
    "        nn=1\n",
    "        for s in list(p.size()):\n",
    "            nn = nn*s\n",
    "        pp += nn\n",
    "    return pp\n",
    "print(get_n_params(net_cnn))\n",
    "print(get_n_params(net_lstm))"
   ]
  },
  {
   "cell_type": "code",
   "execution_count": null,
   "id": "c58b5e02",
   "metadata": {},
   "outputs": [],
   "source": [
    "def train(dataloader, cnn_model, lstm_model, criterion, optimizer, epochs):\n",
    "    cnn_model.train()\n",
    "    lstm_model.train()\n",
    "    for epoch in range(epochs): \n",
    "        train_loss = 0.0\n",
    "        \n",
    "        for data in dataloader:\n",
    "            optimizer.zero_grad()\n",
    "\n",
    "            # forward + backward + optimize\n",
    "            features = cnn_model(x)\n",
    "            outputs = lstm_model(features)\n",
    "            \n",
    "            loss = criterion(outputs, labels)\n",
    "            loss.backward()\n",
    "            optimizer.step()\n",
    "            train_loss += loss.item()\n",
    "            # print statistics\n",
    "            print(f\"Epoch {epoch+1}\\n-------------------------------\")\n",
    "            print(loss)\n",
    "        train_loss = train_loss/len(Dataloader)\n",
    "    print('Finished Training')"
   ]
  },
  {
   "cell_type": "code",
   "execution_count": 99,
   "id": "905ef223",
   "metadata": {},
   "outputs": [],
   "source": [
    "def validation(dataloader, cnn_model, lstm_model, criterion, optimizer, epochs):\n",
    "    cnn_model.eval()\n",
    "    lstm_model.eval()\n",
    "    with torch.no_grad(): \n",
    "        for epoch in range(epochs): \n",
    "            running_loss=0.0\n",
    "            for data in dataloader:\n",
    "                optimizer.zero_grad()\n",
    "\n",
    "                features = cnn_model(x)\n",
    "                outputs = lstm_model(features)\n",
    "\n",
    "                loss = criterion(outputs, labels)\n",
    "                loss.backward()\n",
    "                optimizer.step()\n",
    "                running_loss+=loss.item()\n",
    "                # print statistics\n",
    "                print(f\"Epoch {epoch+1}\\n-------------------------------\")\n",
    "                print(loss)\n",
    "            running_loss=running_loss/len(Dataloader)\n",
    "    return(running_loss)"
   ]
  },
  {
   "cell_type": "code",
   "execution_count": 101,
   "id": "501cc8d3",
   "metadata": {},
   "outputs": [],
   "source": [
    "def test_eval(dataloader, cnn_model, lstm_model, criterion, optimizer):\n",
    "    cnn_model.eval()\n",
    "    lstm_model.eval()\n",
    "    with torch.no_grad():  \n",
    "        eval_loss = 0.0\n",
    "        for data in dataloader:\n",
    "                \n",
    "            features = cnn_model(x)\n",
    "            outputs = lstm_model(features)\n",
    "\n",
    "            loss = criterion(outputs, labels)\n",
    "            eval_loss += loss.item() \n",
    "            print(loss)\n",
    "        eval_loss = eval_loss / len(dataloader)\n",
    "            "
   ]
  }
 ],
 "metadata": {
  "kernelspec": {
   "display_name": "Python 3 (ipykernel)",
   "language": "python",
   "name": "python3"
  },
  "language_info": {
   "codemirror_mode": {
    "name": "ipython",
    "version": 3
   },
   "file_extension": ".py",
   "mimetype": "text/x-python",
   "name": "python",
   "nbconvert_exporter": "python",
   "pygments_lexer": "ipython3",
   "version": "3.9.7"
  }
 },
 "nbformat": 4,
 "nbformat_minor": 5
}
