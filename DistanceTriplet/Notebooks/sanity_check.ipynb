{
 "cells": [
  {
   "cell_type": "code",
   "execution_count": 52,
   "id": "32f4640b",
   "metadata": {},
   "outputs": [
    {
     "name": "stdout",
     "output_type": "stream",
     "text": [
      "/home/mmeignin/montages_reseau/home_maiage/mmeignin/Classification/EmbryonClassif/Notebooks/../DataSplit/\n"
     ]
    }
   ],
   "source": [
    "import os \n",
    "import pandas as pd\n",
    "path=os.getcwd()+\"/../DataSplit/\"\n",
    "print(path)"
   ]
  },
  {
   "cell_type": "code",
   "execution_count": 53,
   "id": "b7b93a19",
   "metadata": {},
   "outputs": [
    {
     "data": {
      "text/plain": [
       "['EmbryonRaw_RandomSplit_test.csv',\n",
       " 'EmbryonRaw_RandomSplit_train.csv',\n",
       " 'EmbryonRaw_RandomSplit_val.csv',\n",
       " 'Embryon_RandomSplit_test.csv',\n",
       " 'Embryon_RandomSplit_train.csv',\n",
       " 'Embryon_RandomSplit_val.csv',\n",
       " 'EmbryonBinary_RandomSplit_test.csv',\n",
       " 'EmbryonBinary_RandomSplit_train.csv',\n",
       " 'EmbryonBinary_RandomSplit_val.csv',\n",
       " 'EmbryonBinaryRaw_RandomSplit_test.csv',\n",
       " 'EmbryonBinaryRaw_RandomSplit_train.csv',\n",
       " 'EmbryonBinaryRaw_RandomSplit_val.csv',\n",
       " 'test.csv']"
      ]
     },
     "execution_count": 53,
     "metadata": {},
     "output_type": "execute_result"
    }
   ],
   "source": [
    "os.listdir(path)"
   ]
  },
  {
   "cell_type": "code",
   "execution_count": 80,
   "id": "9e3523eb",
   "metadata": {},
   "outputs": [
    {
     "name": "stdout",
     "output_type": "stream",
     "text": [
      "              Class            t0\n",
      "count  28200.000000  28200.000000\n",
      "mean       4.000000     22.436170\n",
      "std        2.396849      0.804701\n",
      "min        0.000000     21.250000\n",
      "25%        2.000000     21.750000\n",
      "50%        4.000000     22.500000\n",
      "75%        6.000000     23.250000\n",
      "max        7.000000     23.750000\n",
      "               Class             t0\n",
      "count  108000.000000  108000.000000\n",
      "mean        4.038889      22.376389\n",
      "std         2.381336       0.796479\n",
      "min         0.000000      19.500000\n",
      "25%         2.000000      21.750000\n",
      "50%         4.000000      22.500000\n",
      "75%         6.000000      23.000000\n",
      "max         7.000000      23.750000\n",
      "              Class            t0\n",
      "count  27600.000000  27600.000000\n",
      "mean       4.043478     22.336957\n",
      "std        2.431330      0.821297\n",
      "min        0.000000     20.750000\n",
      "25%        2.000000     21.500000\n",
      "50%        4.500000     22.500000\n",
      "75%        6.000000     23.250000\n",
      "max        7.000000     23.750000\n"
     ]
    }
   ],
   "source": [
    "for fn in os.listdir(path):\n",
    "    if 'Segmented' in fn:\n",
    "        df=pd.read_csv(path+'/'+fn,index_col=0)\n",
    "        df.drop(df.columns[df.columns.str.contains('unnamed',case = False)],axis = 1, inplace = True)\n",
    "        df.to_csv(path+'/'+fn)\n",
    "        print(df.describe())\n",
    "        \n",
    "#df.to_csv(path+'/test.csv')"
   ]
  }
 ],
 "metadata": {
  "kernelspec": {
   "display_name": "Python 3 (ipykernel)",
   "language": "python",
   "name": "python3"
  },
  "language_info": {
   "codemirror_mode": {
    "name": "ipython",
    "version": 3
   },
   "file_extension": ".py",
   "mimetype": "text/x-python",
   "name": "python",
   "nbconvert_exporter": "python",
   "pygments_lexer": "ipython3",
   "version": "3.9.12"
  }
 },
 "nbformat": 4,
 "nbformat_minor": 5
}
